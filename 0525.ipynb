{
  "nbformat": 4,
  "nbformat_minor": 0,
  "metadata": {
    "colab": {
      "name": "0525.ipynb",
      "provenance": [],
      "authorship_tag": "ABX9TyOoupKHE+kskPIHe5CbVJdi",
      "include_colab_link": true
    },
    "kernelspec": {
      "name": "python3",
      "display_name": "Python 3"
    },
    "language_info": {
      "name": "python"
    }
  },
  "cells": [
    {
      "cell_type": "markdown",
      "metadata": {
        "id": "view-in-github",
        "colab_type": "text"
      },
      "source": [
        "<a href=\"https://colab.research.google.com/github/DICKSON777/Introductioin-to-computers/blob/main/0525.ipynb\" target=\"_parent\"><img src=\"https://colab.research.google.com/assets/colab-badge.svg\" alt=\"Open In Colab\"/></a>"
      ]
    },
    {
      "cell_type": "code",
      "source": [
        "print(\"test\")"
      ],
      "metadata": {
        "colab": {
          "base_uri": "https://localhost:8080/"
        },
        "id": "djI7208J0rRN",
        "outputId": "a4851747-ec97-43a8-87a5-8f6964e1fed5"
      },
      "execution_count": 3,
      "outputs": [
        {
          "output_type": "stream",
          "name": "stdout",
          "text": [
            "test\n"
          ]
        }
      ]
    },
    {
      "cell_type": "code",
      "source": [
        "sum=0\n",
        "test=int(input(\"請輸入一個正整數\"))\n",
        "for n in range(1,test+1):\n",
        "  sum=sum+n\n",
        "print(\"1到\",test,'的整數合為',sum)"
      ],
      "metadata": {
        "colab": {
          "base_uri": "https://localhost:8080/"
        },
        "id": "h_m4q3GL0rNS",
        "outputId": "699fdd38-87d7-47ca-f898-4c6d22aa2b9f"
      },
      "execution_count": 4,
      "outputs": [
        {
          "output_type": "stream",
          "name": "stdout",
          "text": [
            "請輸入一個正整數50\n",
            "1到 50 的整數合為 1275\n"
          ]
        }
      ]
    },
    {
      "cell_type": "code",
      "source": [
        "sum=0\n",
        "test=int(input(\"請輸入一個正整數\"))\n",
        "for n in range(1,test+1):\n",
        "  sum=sum+n\n",
        "print(\"1到\",test,'的整數合為',sum)"
      ],
      "metadata": {
        "colab": {
          "base_uri": "https://localhost:8080/"
        },
        "id": "OHFGuSup0rKE",
        "outputId": "ec2c9014-cbb4-46ac-b408-f444158cd6a5"
      },
      "execution_count": 5,
      "outputs": [
        {
          "output_type": "stream",
          "name": "stdout",
          "text": [
            "請輸入一個正整數10\n",
            "1到 10 的整數合為 55\n"
          ]
        }
      ]
    },
    {
      "cell_type": "code",
      "source": [
        "sum=0\n",
        "test=int(input(\"請輸入一個正整數\"))\n",
        "for m in range(1,test+1):\n",
        "  sum=sum+m\n",
        "  print(\"1到\",test,\"的整數合為\",sum)"
      ],
      "metadata": {
        "colab": {
          "base_uri": "https://localhost:8080/"
        },
        "id": "1bSsNyxw15yw",
        "outputId": "e50fd8d2-a0bc-432c-f874-739fffa1e55a"
      },
      "execution_count": 6,
      "outputs": [
        {
          "output_type": "stream",
          "name": "stdout",
          "text": [
            "請輸入一個正整數50\n",
            "1到 50 的整數合為 1\n",
            "1到 50 的整數合為 3\n",
            "1到 50 的整數合為 6\n",
            "1到 50 的整數合為 10\n",
            "1到 50 的整數合為 15\n",
            "1到 50 的整數合為 21\n",
            "1到 50 的整數合為 28\n",
            "1到 50 的整數合為 36\n",
            "1到 50 的整數合為 45\n",
            "1到 50 的整數合為 55\n",
            "1到 50 的整數合為 66\n",
            "1到 50 的整數合為 78\n",
            "1到 50 的整數合為 91\n",
            "1到 50 的整數合為 105\n",
            "1到 50 的整數合為 120\n",
            "1到 50 的整數合為 136\n",
            "1到 50 的整數合為 153\n",
            "1到 50 的整數合為 171\n",
            "1到 50 的整數合為 190\n",
            "1到 50 的整數合為 210\n",
            "1到 50 的整數合為 231\n",
            "1到 50 的整數合為 253\n",
            "1到 50 的整數合為 276\n",
            "1到 50 的整數合為 300\n",
            "1到 50 的整數合為 325\n",
            "1到 50 的整數合為 351\n",
            "1到 50 的整數合為 378\n",
            "1到 50 的整數合為 406\n",
            "1到 50 的整數合為 435\n",
            "1到 50 的整數合為 465\n",
            "1到 50 的整數合為 496\n",
            "1到 50 的整數合為 528\n",
            "1到 50 的整數合為 561\n",
            "1到 50 的整數合為 595\n",
            "1到 50 的整數合為 630\n",
            "1到 50 的整數合為 666\n",
            "1到 50 的整數合為 703\n",
            "1到 50 的整數合為 741\n",
            "1到 50 的整數合為 780\n",
            "1到 50 的整數合為 820\n",
            "1到 50 的整數合為 861\n",
            "1到 50 的整數合為 903\n",
            "1到 50 的整數合為 946\n",
            "1到 50 的整數合為 990\n",
            "1到 50 的整數合為 1035\n",
            "1到 50 的整數合為 1081\n",
            "1到 50 的整數合為 1128\n",
            "1到 50 的整數合為 1176\n",
            "1到 50 的整數合為 1225\n",
            "1到 50 的整數合為 1275\n"
          ]
        }
      ]
    },
    {
      "cell_type": "code",
      "source": [
        "for j in range(1,5):\n",
        "  print(j)\n",
        "  for i in range(1,3):\n",
        "   k=i*j\n",
        "   print(j,\"*\",i,'=',k)"
      ],
      "metadata": {
        "colab": {
          "base_uri": "https://localhost:8080/"
        },
        "id": "M0Zu1A_d2ngP",
        "outputId": "8b055ad6-391d-42fb-fe58-66b521e8d78b"
      },
      "execution_count": 16,
      "outputs": [
        {
          "output_type": "stream",
          "name": "stdout",
          "text": [
            "1\n",
            "1 * 1 = 1\n",
            "1 * 2 = 2\n",
            "2\n",
            "2 * 1 = 2\n",
            "2 * 2 = 4\n",
            "3\n",
            "3 * 1 = 3\n",
            "3 * 2 = 6\n",
            "4\n",
            "4 * 1 = 4\n",
            "4 * 2 = 8\n"
          ]
        }
      ]
    },
    {
      "cell_type": "code",
      "source": [
        "for g in range(1,6):\n",
        "  print(g)\n",
        "  for k in range(1,3):\n",
        "   l=g*k\n",
        "   print(g,\"*\",i,\"=\",l)"
      ],
      "metadata": {
        "colab": {
          "base_uri": "https://localhost:8080/"
        },
        "id": "3ofl6_Zx0rCh",
        "outputId": "9545421c-4863-4d79-c479-5703f54e125e"
      },
      "execution_count": 20,
      "outputs": [
        {
          "output_type": "stream",
          "name": "stdout",
          "text": [
            "1\n",
            "1 * 2 = 1\n",
            "1 * 2 = 2\n",
            "2\n",
            "2 * 2 = 2\n",
            "2 * 2 = 4\n",
            "3\n",
            "3 * 2 = 3\n",
            "3 * 2 = 6\n",
            "4\n",
            "4 * 2 = 4\n",
            "4 * 2 = 8\n",
            "5\n",
            "5 * 2 = 5\n",
            "5 * 2 = 10\n"
          ]
        }
      ]
    },
    {
      "cell_type": "code",
      "source": [
        "for f in range(1,5):\n",
        "  if(f==4):\n",
        "    break\n",
        "  print(f,end=' ')"
      ],
      "metadata": {
        "colab": {
          "base_uri": "https://localhost:8080/"
        },
        "id": "ivGrDVgd5u97",
        "outputId": "9b5f7e5e-7fe2-4d2e-c4e1-cd8e51c68893"
      },
      "execution_count": 28,
      "outputs": [
        {
          "output_type": "stream",
          "name": "stdout",
          "text": [
            "1 2 3 "
          ]
        }
      ]
    },
    {
      "cell_type": "code",
      "source": [
        "count = 0\n",
        "for string in 'hello!':\n",
        "  count+=1\n",
        "  if string == 'o':\n",
        "    break\n",
        "  print(string)\n",
        "print('迴圈結束')\n",
        "print('迴圈進行了 %d 次' %count)"
      ],
      "metadata": {
        "colab": {
          "base_uri": "https://localhost:8080/"
        },
        "id": "wd1EiAm55uwA",
        "outputId": "0058ab6b-ac10-464f-f449-199649d8d974"
      },
      "execution_count": 29,
      "outputs": [
        {
          "output_type": "stream",
          "name": "stdout",
          "text": [
            "h\n",
            "e\n",
            "l\n",
            "l\n",
            "迴圈結束\n",
            "迴圈進行了 5 次\n"
          ]
        }
      ]
    },
    {
      "cell_type": "code",
      "source": [
        "count = 0\n",
        "for string in '測試看看!':\n",
        "  count+=1\n",
        "  if string == '看':\n",
        "    break\n",
        "  print(string)\n",
        "print('迴圈結束')\n",
        "print('迴圈進行了 %d 次' %count)"
      ],
      "metadata": {
        "colab": {
          "base_uri": "https://localhost:8080/"
        },
        "id": "ThHeXkGJ5ukm",
        "outputId": "ff49baaa-64ae-4460-e46d-e2f4851845ed"
      },
      "execution_count": 31,
      "outputs": [
        {
          "output_type": "stream",
          "name": "stdout",
          "text": [
            "測\n",
            "試\n",
            "迴圈結束\n",
            "迴圈進行了 3 次\n"
          ]
        }
      ]
    },
    {
      "cell_type": "code",
      "source": [
        "for i in range(2, 10):\n",
        "  for j in range(1, 10):\n",
        "    k = i * j\n",
        "    print(\"%d*%d= %2d \" %(i,j,k), end=\"\")\n",
        "  print()"
      ],
      "metadata": {
        "colab": {
          "base_uri": "https://localhost:8080/"
        },
        "id": "yw8VvNdL91W2",
        "outputId": "215d89d1-0d19-47b1-867d-ebaf3a5c948d"
      },
      "execution_count": 32,
      "outputs": [
        {
          "output_type": "stream",
          "name": "stdout",
          "text": [
            "2*1=  2 2*2=  4 2*3=  6 2*4=  8 2*5= 10 2*6= 12 2*7= 14 2*8= 16 2*9= 18 \n",
            "3*1=  3 3*2=  6 3*3=  9 3*4= 12 3*5= 15 3*6= 18 3*7= 21 3*8= 24 3*9= 27 \n",
            "4*1=  4 4*2=  8 4*3= 12 4*4= 16 4*5= 20 4*6= 24 4*7= 28 4*8= 32 4*9= 36 \n",
            "5*1=  5 5*2= 10 5*3= 15 5*4= 20 5*5= 25 5*6= 30 5*7= 35 5*8= 40 5*9= 45 \n",
            "6*1=  6 6*2= 12 6*3= 18 6*4= 24 6*5= 30 6*6= 36 6*7= 42 6*8= 48 6*9= 54 \n",
            "7*1=  7 7*2= 14 7*3= 21 7*4= 28 7*5= 35 7*6= 42 7*7= 49 7*8= 56 7*9= 63 \n",
            "8*1=  8 8*2= 16 8*3= 24 8*4= 32 8*5= 40 8*6= 48 8*7= 56 8*8= 64 8*9= 72 \n",
            "9*1=  9 9*2= 18 9*3= 27 9*4= 36 9*5= 45 9*6= 54 9*7= 63 9*8= 72 9*9= 81 \n"
          ]
        }
      ]
    },
    {
      "cell_type": "code",
      "source": [
        "x = int(input(\"請輸入 a 的值:\"))\n",
        "y = int(input(\"請輸入 b 的值:\"))\n",
        "if x > y :\n",
        "    c = x\n",
        "else:\n",
        "    c = y\n",
        "m = (x + 1) * (y + 1)\n",
        "for k in range(c, m):\n",
        "    if k % x == 0 and k % y == 0:\n",
        "        print(x,'和',y,'的最小公倍數=',k)\n",
        "        break"
      ],
      "metadata": {
        "colab": {
          "base_uri": "https://localhost:8080/"
        },
        "id": "tuzKZIOS91Oz",
        "outputId": "c1a7dd5d-ea9f-4801-b7cf-56bb3a375c25"
      },
      "execution_count": 33,
      "outputs": [
        {
          "output_type": "stream",
          "name": "stdout",
          "text": [
            "請輸入 a 的值:9\n",
            "請輸入 b 的值:15\n",
            "9 和 15 的最小公倍數= 45\n"
          ]
        }
      ]
    },
    {
      "cell_type": "code",
      "source": [
        "n = int(input('請輸入正整數:'))\n",
        "for i in range(1,n+1):\n",
        "  if i % 5 == 0:\n",
        "    continue\n",
        "  print(i,'',end='')"
      ],
      "metadata": {
        "colab": {
          "base_uri": "https://localhost:8080/"
        },
        "id": "tDt101vo91Jl",
        "outputId": "a5134e48-e0da-4805-9d39-580aefb177f3"
      },
      "execution_count": 34,
      "outputs": [
        {
          "output_type": "stream",
          "name": "stdout",
          "text": [
            "請輸入正整數:12\n",
            "1 2 3 4 6 7 8 9 11 12 "
          ]
        }
      ]
    },
    {
      "cell_type": "code",
      "source": [
        "n = int(input('請輸入正整數:'))\n",
        "for i in range(1,n+1):\n",
        "  if i % 5 == 0:\n",
        "    continue\n",
        "  print(i,'',end='')"
      ],
      "metadata": {
        "colab": {
          "base_uri": "https://localhost:8080/"
        },
        "id": "-OaTzhb8-FmK",
        "outputId": "32d549be-7bc3-45f4-fde9-a6ae3f831b52"
      },
      "execution_count": 35,
      "outputs": [
        {
          "output_type": "stream",
          "name": "stdout",
          "text": [
            "請輸入正整數:21\n",
            "1 2 3 4 6 7 8 9 11 12 13 14 16 17 18 19 21 "
          ]
        }
      ]
    }
  ]
}