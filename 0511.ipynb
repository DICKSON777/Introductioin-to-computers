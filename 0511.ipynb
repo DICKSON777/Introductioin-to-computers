{
  "nbformat": 4,
  "nbformat_minor": 0,
  "metadata": {
    "colab": {
      "name": "0511.ipynb",
      "provenance": [],
      "authorship_tag": "ABX9TyM9Bsx0B9jJSSORQJJNFo5h",
      "include_colab_link": true
    },
    "kernelspec": {
      "name": "python3",
      "display_name": "Python 3"
    },
    "language_info": {
      "name": "python"
    }
  },
  "cells": [
    {
      "cell_type": "markdown",
      "metadata": {
        "id": "view-in-github",
        "colab_type": "text"
      },
      "source": [
        "<a href=\"https://colab.research.google.com/github/DICKSON777/Introductioin-to-computers/blob/main/0511.ipynb\" target=\"_parent\"><img src=\"https://colab.research.google.com/assets/colab-badge.svg\" alt=\"Open In Colab\"/></a>"
      ]
    },
    {
      "cell_type": "code",
      "execution_count": null,
      "metadata": {
        "colab": {
          "base_uri": "https://localhost:8080/"
        },
        "id": "vtL8stDshGXY",
        "outputId": "da8aa40b-aaf4-4444-d113-7eca84a170fa"
      },
      "outputs": [
        {
          "output_type": "stream",
          "name": "stdout",
          "text": [
            "請輸入你的體溫44\n",
            "體溫過高\n"
          ]
        }
      ],
      "source": [
        "temp=float(input(\"請輸入你的體溫:\"))\n",
        "if temp>= 37.5:\n",
        "  print(\"體溫過高\")\n",
        "elif temp>= 37 and temp<=37.4:\n",
        "  print(\"體溫略高\")\n",
        "elif temp>= 34 and temp < 36.9:\n",
        "  print(\"體溫正常\")\n",
        "else:\n",
        "  print(\"體溫異常，請重新量測!\")"
      ]
    },
    {
      "cell_type": "code",
      "source": [
        "money=int(input(\"請輸入購物金額:\"))\n",
        "if (money >= 10000):\n",
        "   if(money >= 100000):\n",
        "     print(\"八折\",money*0.8, end = \"元\\n\")\n",
        "   elif(money>= 50000):\n",
        "     print(\"八五折\",money*0.85, end =\"元\\n\")\n",
        "   elif(money>= 30000):\n",
        "     print(\"九折\",money*0.9, end =\"元\\n\")\n",
        "   elif(money>= 10000):\n",
        "     print(\"九五折\",money*0.95, end =\"元\\n\")\n",
        "else:\n",
        "  print(\"沒打折\",money, end=\"元\\n\")"
      ],
      "metadata": {
        "colab": {
          "base_uri": "https://localhost:8080/"
        },
        "id": "dSntHCsxmeHO",
        "outputId": "616424e5-5854-474e-94e2-4d83ea57e6be"
      },
      "execution_count": null,
      "outputs": [
        {
          "output_type": "stream",
          "name": "stdout",
          "text": [
            "請輸入購物金額100000\n",
            "八折 80000.0元\n"
          ]
        }
      ]
    },
    {
      "cell_type": "code",
      "source": [
        "score=int(input(\"請輸入成績:\"))\n",
        "if(score>= 90):\n",
        "  print(\"A\")\n",
        "elif(score >= 80 and score <= 89):\n",
        "  print(\"B\")\n",
        "elif(score>= 70 and score<= 79):\n",
        "  print(\"C\")\n",
        "elif(score>= 60 and score<= 69):\n",
        "  print(\"D\")\n",
        "else:\n",
        "  print(\"E\")\n",
        "  \n",
        "  \n"
      ],
      "metadata": {
        "id": "TRtqDnrw-xeR",
        "colab": {
          "base_uri": "https://localhost:8080/"
        },
        "outputId": "fd9499e0-bf88-4929-b795-adf8d2cfa7a7"
      },
      "execution_count": 39,
      "outputs": [
        {
          "output_type": "stream",
          "name": "stdout",
          "text": [
            "請輸入成績:99\n",
            "A\n"
          ]
        }
      ]
    },
    {
      "cell_type": "code",
      "source": [
        "month=int(input(\"請輸入月份:\"))\n",
        "if(month >= 1 and month <= 12):\n",
        "  if(month>=3 and month<=5):\n",
        "   print(month,\"月是春天!\")\n",
        "  elif(month>=6 and month<=8):\n",
        "   print(month,\"月是夏天\")\n",
        "  elif(month>=9 and month<=11):\n",
        "   print(month,\"月是秋天\")\n",
        "  else:\n",
        "   print(month,\"月是冬天\")\n",
        "else:\n",
        "  print(\"月份不再範圍內\")"
      ],
      "metadata": {
        "colab": {
          "base_uri": "https://localhost:8080/"
        },
        "id": "JxeoRO3yDefS",
        "outputId": "1c3acee9-40b3-40b8-8ee5-f59d9474ed22"
      },
      "execution_count": null,
      "outputs": [
        {
          "output_type": "stream",
          "name": "stdout",
          "text": [
            "請輸入月份:3\n",
            "3 月是春天!\n"
          ]
        }
      ]
    },
    {
      "cell_type": "code",
      "source": [
        "income=int(input(\"請輸入收入淨額:\"))\n",
        "if(income>=2000000):\n",
        "   print(\"賦稅金額\",income*0.3,end=\"元\\n\")\n",
        "elif(income>=1000000):\n",
        "   print(\"賦稅金額\",income*0.21,end=\"元\\n\")\n",
        "elif(income>=600000):\n",
        "   print(\"賦稅金額\",income*0.13,end=\"元\\n\")\n",
        "elif(income>=300000):\n",
        "   print(\"賦稅金額\",income*0.06,end=\"元\\n\")\n",
        "else:\n",
        "  print(\"賦稅金額\",income*0,end=\"元\\n\")\n"
      ],
      "metadata": {
        "id": "tlUqy0-OOmiv",
        "colab": {
          "base_uri": "https://localhost:8080/"
        },
        "outputId": "344844dd-8afe-4653-c9c6-8b87e8f10303"
      },
      "execution_count": 46,
      "outputs": [
        {
          "output_type": "stream",
          "name": "stdout",
          "text": [
            "請輸入收入淨額:2000000\n",
            "賦稅金額 600000.0元\n"
          ]
        }
      ]
    }
  ]
}